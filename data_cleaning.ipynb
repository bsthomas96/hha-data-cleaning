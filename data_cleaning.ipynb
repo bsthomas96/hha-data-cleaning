{
  "nbformat": 4,
  "nbformat_minor": 0,
  "metadata": {
    "colab": {
      "provenance": [],
      "collapsed_sections": []
    },
    "kernelspec": {
      "name": "python3",
      "display_name": "Python 3"
    },
    "language_info": {
      "name": "python"
    }
  },
  "cells": [
    {
      "cell_type": "code",
      "execution_count": 21,
      "metadata": {
        "id": "ds3dYvw32OK_",
        "colab": {
          "base_uri": "https://localhost:8080/",
          "height": 73
        },
        "outputId": "d8437d2c-5b06-43c0-e59f-a8b03933b53f"
      },
      "outputs": [
        {
          "output_type": "display_data",
          "data": {
            "text/plain": [
              "<IPython.core.display.HTML object>"
            ],
            "text/html": [
              "\n",
              "     <input type=\"file\" id=\"files-7fea6711-e390-415e-ab69-f25fc8090086\" name=\"files[]\" multiple disabled\n",
              "        style=\"border:none\" />\n",
              "     <output id=\"result-7fea6711-e390-415e-ab69-f25fc8090086\">\n",
              "      Upload widget is only available when the cell has been executed in the\n",
              "      current browser session. Please rerun this cell to enable.\n",
              "      </output>\n",
              "      <script>// Copyright 2017 Google LLC\n",
              "//\n",
              "// Licensed under the Apache License, Version 2.0 (the \"License\");\n",
              "// you may not use this file except in compliance with the License.\n",
              "// You may obtain a copy of the License at\n",
              "//\n",
              "//      http://www.apache.org/licenses/LICENSE-2.0\n",
              "//\n",
              "// Unless required by applicable law or agreed to in writing, software\n",
              "// distributed under the License is distributed on an \"AS IS\" BASIS,\n",
              "// WITHOUT WARRANTIES OR CONDITIONS OF ANY KIND, either express or implied.\n",
              "// See the License for the specific language governing permissions and\n",
              "// limitations under the License.\n",
              "\n",
              "/**\n",
              " * @fileoverview Helpers for google.colab Python module.\n",
              " */\n",
              "(function(scope) {\n",
              "function span(text, styleAttributes = {}) {\n",
              "  const element = document.createElement('span');\n",
              "  element.textContent = text;\n",
              "  for (const key of Object.keys(styleAttributes)) {\n",
              "    element.style[key] = styleAttributes[key];\n",
              "  }\n",
              "  return element;\n",
              "}\n",
              "\n",
              "// Max number of bytes which will be uploaded at a time.\n",
              "const MAX_PAYLOAD_SIZE = 100 * 1024;\n",
              "\n",
              "function _uploadFiles(inputId, outputId) {\n",
              "  const steps = uploadFilesStep(inputId, outputId);\n",
              "  const outputElement = document.getElementById(outputId);\n",
              "  // Cache steps on the outputElement to make it available for the next call\n",
              "  // to uploadFilesContinue from Python.\n",
              "  outputElement.steps = steps;\n",
              "\n",
              "  return _uploadFilesContinue(outputId);\n",
              "}\n",
              "\n",
              "// This is roughly an async generator (not supported in the browser yet),\n",
              "// where there are multiple asynchronous steps and the Python side is going\n",
              "// to poll for completion of each step.\n",
              "// This uses a Promise to block the python side on completion of each step,\n",
              "// then passes the result of the previous step as the input to the next step.\n",
              "function _uploadFilesContinue(outputId) {\n",
              "  const outputElement = document.getElementById(outputId);\n",
              "  const steps = outputElement.steps;\n",
              "\n",
              "  const next = steps.next(outputElement.lastPromiseValue);\n",
              "  return Promise.resolve(next.value.promise).then((value) => {\n",
              "    // Cache the last promise value to make it available to the next\n",
              "    // step of the generator.\n",
              "    outputElement.lastPromiseValue = value;\n",
              "    return next.value.response;\n",
              "  });\n",
              "}\n",
              "\n",
              "/**\n",
              " * Generator function which is called between each async step of the upload\n",
              " * process.\n",
              " * @param {string} inputId Element ID of the input file picker element.\n",
              " * @param {string} outputId Element ID of the output display.\n",
              " * @return {!Iterable<!Object>} Iterable of next steps.\n",
              " */\n",
              "function* uploadFilesStep(inputId, outputId) {\n",
              "  const inputElement = document.getElementById(inputId);\n",
              "  inputElement.disabled = false;\n",
              "\n",
              "  const outputElement = document.getElementById(outputId);\n",
              "  outputElement.innerHTML = '';\n",
              "\n",
              "  const pickedPromise = new Promise((resolve) => {\n",
              "    inputElement.addEventListener('change', (e) => {\n",
              "      resolve(e.target.files);\n",
              "    });\n",
              "  });\n",
              "\n",
              "  const cancel = document.createElement('button');\n",
              "  inputElement.parentElement.appendChild(cancel);\n",
              "  cancel.textContent = 'Cancel upload';\n",
              "  const cancelPromise = new Promise((resolve) => {\n",
              "    cancel.onclick = () => {\n",
              "      resolve(null);\n",
              "    };\n",
              "  });\n",
              "\n",
              "  // Wait for the user to pick the files.\n",
              "  const files = yield {\n",
              "    promise: Promise.race([pickedPromise, cancelPromise]),\n",
              "    response: {\n",
              "      action: 'starting',\n",
              "    }\n",
              "  };\n",
              "\n",
              "  cancel.remove();\n",
              "\n",
              "  // Disable the input element since further picks are not allowed.\n",
              "  inputElement.disabled = true;\n",
              "\n",
              "  if (!files) {\n",
              "    return {\n",
              "      response: {\n",
              "        action: 'complete',\n",
              "      }\n",
              "    };\n",
              "  }\n",
              "\n",
              "  for (const file of files) {\n",
              "    const li = document.createElement('li');\n",
              "    li.append(span(file.name, {fontWeight: 'bold'}));\n",
              "    li.append(span(\n",
              "        `(${file.type || 'n/a'}) - ${file.size} bytes, ` +\n",
              "        `last modified: ${\n",
              "            file.lastModifiedDate ? file.lastModifiedDate.toLocaleDateString() :\n",
              "                                    'n/a'} - `));\n",
              "    const percent = span('0% done');\n",
              "    li.appendChild(percent);\n",
              "\n",
              "    outputElement.appendChild(li);\n",
              "\n",
              "    const fileDataPromise = new Promise((resolve) => {\n",
              "      const reader = new FileReader();\n",
              "      reader.onload = (e) => {\n",
              "        resolve(e.target.result);\n",
              "      };\n",
              "      reader.readAsArrayBuffer(file);\n",
              "    });\n",
              "    // Wait for the data to be ready.\n",
              "    let fileData = yield {\n",
              "      promise: fileDataPromise,\n",
              "      response: {\n",
              "        action: 'continue',\n",
              "      }\n",
              "    };\n",
              "\n",
              "    // Use a chunked sending to avoid message size limits. See b/62115660.\n",
              "    let position = 0;\n",
              "    do {\n",
              "      const length = Math.min(fileData.byteLength - position, MAX_PAYLOAD_SIZE);\n",
              "      const chunk = new Uint8Array(fileData, position, length);\n",
              "      position += length;\n",
              "\n",
              "      const base64 = btoa(String.fromCharCode.apply(null, chunk));\n",
              "      yield {\n",
              "        response: {\n",
              "          action: 'append',\n",
              "          file: file.name,\n",
              "          data: base64,\n",
              "        },\n",
              "      };\n",
              "\n",
              "      let percentDone = fileData.byteLength === 0 ?\n",
              "          100 :\n",
              "          Math.round((position / fileData.byteLength) * 100);\n",
              "      percent.textContent = `${percentDone}% done`;\n",
              "\n",
              "    } while (position < fileData.byteLength);\n",
              "  }\n",
              "\n",
              "  // All done.\n",
              "  yield {\n",
              "    response: {\n",
              "      action: 'complete',\n",
              "    }\n",
              "  };\n",
              "}\n",
              "\n",
              "scope.google = scope.google || {};\n",
              "scope.google.colab = scope.google.colab || {};\n",
              "scope.google.colab._files = {\n",
              "  _uploadFiles,\n",
              "  _uploadFilesContinue,\n",
              "};\n",
              "})(self);\n",
              "</script> "
            ]
          },
          "metadata": {}
        },
        {
          "output_type": "stream",
          "name": "stdout",
          "text": [
            "Saving School_Learning_Modalities.csv to School_Learning_Modalities.csv\n"
          ]
        }
      ],
      "source": [
        "import numpy as pd\n",
        "import matplotlib.pyplot as plt\n",
        "from google.colab import files\n",
        "import io\n",
        "import pandas as pd\n",
        "\n",
        "data = files.upload()\n"
      ]
    },
    {
      "cell_type": "code",
      "source": [
        "# loaded data in python"
      ],
      "metadata": {
        "id": "7zJW-knrurAy"
      },
      "execution_count": null,
      "outputs": []
    },
    {
      "cell_type": "code",
      "source": [
        "df = pd.read_csv(io.StringIO(data['School_Learning_Modalities.csv'].decode('utf-8')))"
      ],
      "metadata": {
        "id": "ltausVOs3vWX"
      },
      "execution_count": 22,
      "outputs": []
    },
    {
      "cell_type": "code",
      "source": [
        "df.head"
      ],
      "metadata": {
        "colab": {
          "base_uri": "https://localhost:8080/"
        },
        "id": "y5_ON8useY2K",
        "outputId": "8a66e712-cf4e-4db4-e7f0-c0ae92b64196"
      },
      "execution_count": 4,
      "outputs": [
        {
          "output_type": "execute_result",
          "data": {
            "text/plain": [
              "<bound method NDFrame.head of         District NCES ID                        District Name  \\\n",
              "0                 100005                     Albertville City   \n",
              "1                 100006                      Marshall County   \n",
              "2                 100007                          Hoover City   \n",
              "3                 100008                         Madison City   \n",
              "4                 100011                           Leeds City   \n",
              "...                  ...                                  ...   \n",
              "781143           5900187            Hannahville Indian School   \n",
              "781144           5900190                 Tiospaye Topa School   \n",
              "781145           5900193          Seba Dalkai Boarding School   \n",
              "781146           5900197                          Noli School   \n",
              "781147           7200030  PUERTO RICO DEPARTMENT OF EDUCATION   \n",
              "\n",
              "                          Week Learning Modality  Operational Schools  \\\n",
              "0       08/28/2022 12:00:00 AM         In Person                    6   \n",
              "1       08/28/2022 12:00:00 AM         In Person                   15   \n",
              "2       08/28/2022 12:00:00 AM         In Person                   18   \n",
              "3       08/28/2022 12:00:00 AM         In Person                   11   \n",
              "4       08/28/2022 12:00:00 AM         In Person                    4   \n",
              "...                        ...               ...                  ...   \n",
              "781143  08/01/2021 12:00:00 AM         In Person                    1   \n",
              "781144  08/01/2021 12:00:00 AM         In Person                    1   \n",
              "781145  08/01/2021 12:00:00 AM            Hybrid                    1   \n",
              "781146  08/01/2021 12:00:00 AM         In Person                    1   \n",
              "781147  08/01/2021 12:00:00 AM         In Person                  849   \n",
              "\n",
              "       Student Count          City State  ZIP Code  \n",
              "0              5,824   Albertville    AL     35950  \n",
              "1              5,764  Guntersville    AL     35976  \n",
              "2             14,061        Hoover    AL     35243  \n",
              "3             11,695       Madison    AL     35758  \n",
              "4              2,076         Leeds    AL     35094  \n",
              "...              ...           ...   ...       ...  \n",
              "781143           163        Wilson    BI     49896  \n",
              "781144           157       LaPlant    BI     57652  \n",
              "781145            65       Winslow    BI     86047  \n",
              "781146           123   San Jacinto    BI     92581  \n",
              "781147       292,518      HATO REY    PR       919  \n",
              "\n",
              "[781148 rows x 9 columns]>"
            ]
          },
          "metadata": {},
          "execution_count": 4
        }
      ]
    },
    {
      "cell_type": "code",
      "source": [
        "# printed count of rows and columns"
      ],
      "metadata": {
        "id": "XFJLMeGTuxM1"
      },
      "execution_count": null,
      "outputs": []
    },
    {
      "cell_type": "code",
      "source": [
        "df.shape"
      ],
      "metadata": {
        "colab": {
          "base_uri": "https://localhost:8080/"
        },
        "id": "CG0-DmpRf6o1",
        "outputId": "2e52d9fc-06ea-4a67-8367-dc422d235e5d"
      },
      "execution_count": 7,
      "outputs": [
        {
          "output_type": "execute_result",
          "data": {
            "text/plain": [
              "(781148, 9)"
            ]
          },
          "metadata": {},
          "execution_count": 7
        }
      ]
    },
    {
      "cell_type": "code",
      "source": [
        "# provided print out of column names"
      ],
      "metadata": {
        "id": "edUnKLH4u5iQ"
      },
      "execution_count": null,
      "outputs": []
    },
    {
      "cell_type": "code",
      "source": [
        "print(df.columns)"
      ],
      "metadata": {
        "colab": {
          "base_uri": "https://localhost:8080/"
        },
        "id": "wwF72pArgZq-",
        "outputId": "84362945-2326-42de-df81-d9749e933473"
      },
      "execution_count": 9,
      "outputs": [
        {
          "output_type": "stream",
          "name": "stdout",
          "text": [
            "Index(['District NCES ID', 'District Name', 'Week', 'Learning Modality',\n",
            "       'Operational Schools', 'Student Count', 'City', 'State', 'ZIP Code'],\n",
            "      dtype='object')\n"
          ]
        }
      ]
    },
    {
      "cell_type": "code",
      "source": [
        "# clean column names # remove all special characters and white space"
      ],
      "metadata": {
        "id": "qjrMpe1Yu76R"
      },
      "execution_count": null,
      "outputs": []
    },
    {
      "cell_type": "code",
      "source": [
        "df.columns = df.columns.str.replace('[#, @, &]', '')"
      ],
      "metadata": {
        "colab": {
          "base_uri": "https://localhost:8080/"
        },
        "id": "2T1Gvl_7EmAG",
        "outputId": "0eff6cb6-e22f-4a34-d705-f924f258ed59"
      },
      "execution_count": 23,
      "outputs": [
        {
          "output_type": "stream",
          "name": "stderr",
          "text": [
            "/usr/local/lib/python3.7/dist-packages/ipykernel_launcher.py:1: FutureWarning: The default value of regex will change from True to False in a future version.\n",
            "  \"\"\"Entry point for launching an IPython kernel.\n"
          ]
        }
      ]
    },
    {
      "cell_type": "code",
      "source": [
        "print (\"/n/n\", df)"
      ],
      "metadata": {
        "colab": {
          "base_uri": "https://localhost:8080/"
        },
        "id": "4lN03WhXFrak",
        "outputId": "9b657d82-5d26-47bd-f7df-d6e14254b652"
      },
      "execution_count": 24,
      "outputs": [
        {
          "output_type": "stream",
          "name": "stdout",
          "text": [
            "/n/n         DistrictNCESID                         DistrictName  \\\n",
            "0               100005                     Albertville City   \n",
            "1               100006                      Marshall County   \n",
            "2               100007                          Hoover City   \n",
            "3               100008                         Madison City   \n",
            "4               100011                           Leeds City   \n",
            "...                ...                                  ...   \n",
            "781143         5900187            Hannahville Indian School   \n",
            "781144         5900190                 Tiospaye Topa School   \n",
            "781145         5900193          Seba Dalkai Boarding School   \n",
            "781146         5900197                          Noli School   \n",
            "781147         7200030  PUERTO RICO DEPARTMENT OF EDUCATION   \n",
            "\n",
            "                          Week LearningModality  OperationalSchools  \\\n",
            "0       08/28/2022 12:00:00 AM        In Person                   6   \n",
            "1       08/28/2022 12:00:00 AM        In Person                  15   \n",
            "2       08/28/2022 12:00:00 AM        In Person                  18   \n",
            "3       08/28/2022 12:00:00 AM        In Person                  11   \n",
            "4       08/28/2022 12:00:00 AM        In Person                   4   \n",
            "...                        ...              ...                 ...   \n",
            "781143  08/01/2021 12:00:00 AM        In Person                   1   \n",
            "781144  08/01/2021 12:00:00 AM        In Person                   1   \n",
            "781145  08/01/2021 12:00:00 AM           Hybrid                   1   \n",
            "781146  08/01/2021 12:00:00 AM        In Person                   1   \n",
            "781147  08/01/2021 12:00:00 AM        In Person                 849   \n",
            "\n",
            "       StudentCount          City State  ZIPCode  \n",
            "0             5,824   Albertville    AL    35950  \n",
            "1             5,764  Guntersville    AL    35976  \n",
            "2            14,061        Hoover    AL    35243  \n",
            "3            11,695       Madison    AL    35758  \n",
            "4             2,076         Leeds    AL    35094  \n",
            "...             ...           ...   ...      ...  \n",
            "781143          163        Wilson    BI    49896  \n",
            "781144          157       LaPlant    BI    57652  \n",
            "781145           65       Winslow    BI    86047  \n",
            "781146          123   San Jacinto    BI    92581  \n",
            "781147      292,518      HATO REY    PR      919  \n",
            "\n",
            "[781148 rows x 9 columns]\n"
          ]
        }
      ]
    },
    {
      "cell_type": "code",
      "source": [
        "# convert column types to correct types"
      ],
      "metadata": {
        "id": "xZuKFUenG8BS"
      },
      "execution_count": null,
      "outputs": []
    },
    {
      "cell_type": "code",
      "source": [
        "df.dtypes"
      ],
      "metadata": {
        "colab": {
          "base_uri": "https://localhost:8080/"
        },
        "id": "vU7JexpnHNlt",
        "outputId": "7c73b961-4f71-411f-d0ea-b7a98bb71e26"
      },
      "execution_count": 26,
      "outputs": [
        {
          "output_type": "execute_result",
          "data": {
            "text/plain": [
              "DistrictNCESID         int64\n",
              "DistrictName          object\n",
              "Week                  object\n",
              "LearningModality      object\n",
              "OperationalSchools     int64\n",
              "StudentCount          object\n",
              "City                  object\n",
              "State                 object\n",
              "ZIPCode                int64\n",
              "dtype: object"
            ]
          },
          "metadata": {},
          "execution_count": 26
        }
      ]
    },
    {
      "cell_type": "code",
      "source": [
        "from pandas.core.dtypes.cast import convert_dtypes\n",
        "convert_dtypes"
      ],
      "metadata": {
        "colab": {
          "base_uri": "https://localhost:8080/"
        },
        "id": "4zeQTaetIv_E",
        "outputId": "8d6b6591-7433-4407-9d2e-a9c78adf2d37"
      },
      "execution_count": 35,
      "outputs": [
        {
          "output_type": "execute_result",
          "data": {
            "text/plain": [
              "<function pandas.core.dtypes.cast.convert_dtypes(input_array: 'ArrayLike', convert_string: 'bool' = True, convert_integer: 'bool' = True, convert_boolean: 'bool' = True, convert_floating: 'bool' = True) -> 'DtypeObj'>"
            ]
          },
          "metadata": {},
          "execution_count": 35
        }
      ]
    },
    {
      "cell_type": "code",
      "source": [
        "# get count of missing values in each column"
      ],
      "metadata": {
        "id": "82w1ZZZ7I_8H"
      },
      "execution_count": null,
      "outputs": []
    },
    {
      "cell_type": "code",
      "source": [
        "df.isnull().sum()"
      ],
      "metadata": {
        "colab": {
          "base_uri": "https://localhost:8080/"
        },
        "id": "bkYqKP2RJCQA",
        "outputId": "636e88f9-04b6-4d0e-83d4-e160b6a2f838"
      },
      "execution_count": 36,
      "outputs": [
        {
          "output_type": "execute_result",
          "data": {
            "text/plain": [
              "DistrictNCESID          0\n",
              "DistrictName            0\n",
              "Week                    0\n",
              "LearningModality        0\n",
              "OperationalSchools      0\n",
              "StudentCount          718\n",
              "City                    0\n",
              "State                   0\n",
              "ZIPCode                 0\n",
              "dtype: int64"
            ]
          },
          "metadata": {},
          "execution_count": 36
        }
      ]
    },
    {
      "cell_type": "code",
      "source": [
        "# look for duplicate rows and remove "
      ],
      "metadata": {
        "id": "IA_iYKsjKohH"
      },
      "execution_count": null,
      "outputs": []
    },
    {
      "cell_type": "code",
      "source": [
        "df.duplicated()"
      ],
      "metadata": {
        "colab": {
          "base_uri": "https://localhost:8080/"
        },
        "id": "EG3txJIiKrRJ",
        "outputId": "ccf16634-670d-4fee-e7b1-35ff04337fd7"
      },
      "execution_count": 39,
      "outputs": [
        {
          "output_type": "execute_result",
          "data": {
            "text/plain": [
              "0         False\n",
              "1         False\n",
              "2         False\n",
              "3         False\n",
              "4         False\n",
              "          ...  \n",
              "781143    False\n",
              "781144    False\n",
              "781145    False\n",
              "781146    False\n",
              "781147    False\n",
              "Length: 781148, dtype: bool"
            ]
          },
          "metadata": {},
          "execution_count": 39
        }
      ]
    },
    {
      "cell_type": "code",
      "source": [
        "# no duplicated rows were found as False was returned"
      ],
      "metadata": {
        "id": "KMEXfr_ALwny"
      },
      "execution_count": null,
      "outputs": []
    },
    {
      "cell_type": "code",
      "source": [
        "# attempt to create a new column "
      ],
      "metadata": {
        "id": "aSWG-brdL5Qk"
      },
      "execution_count": null,
      "outputs": []
    },
    {
      "cell_type": "code",
      "source": [
        "from csv import writer\n",
        "from csv import reader"
      ],
      "metadata": {
        "id": "LvTdLTHLMeRT"
      },
      "execution_count": 42,
      "outputs": []
    },
    {
      "cell_type": "code",
      "source": [
        "def add_column_in_csv(input_file, output_file, transform_row)"
      ],
      "metadata": {
        "colab": {
          "base_uri": "https://localhost:8080/",
          "height": 130
        },
        "id": "aA1nh6fKM0nV",
        "outputId": "df5c0c04-4af1-44d0-f884-dbe6763f8655"
      },
      "execution_count": 43,
      "outputs": [
        {
          "output_type": "error",
          "ename": "SyntaxError",
          "evalue": "ignored",
          "traceback": [
            "\u001b[0;36m  File \u001b[0;32m\"<ipython-input-43-e3c039f5c0f5>\"\u001b[0;36m, line \u001b[0;32m1\u001b[0m\n\u001b[0;31m    def add_column_in_csv(input_file, output_file, transform_row)\u001b[0m\n\u001b[0m                                                                 ^\u001b[0m\n\u001b[0;31mSyntaxError\u001b[0m\u001b[0;31m:\u001b[0m invalid syntax\n"
          ]
        }
      ]
    }
  ]
}